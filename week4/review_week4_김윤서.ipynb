{
 "cells": [
  {
   "cell_type": "markdown",
   "metadata": {},
   "source": [
    "# Week4 복습문제(2)\n"
   ]
  },
  {
   "cell_type": "code",
   "execution_count": 1,
   "metadata": {},
   "outputs": [
    {
     "data": {
      "text/html": [
       "<div>\n",
       "<style scoped>\n",
       "    .dataframe tbody tr th:only-of-type {\n",
       "        vertical-align: middle;\n",
       "    }\n",
       "\n",
       "    .dataframe tbody tr th {\n",
       "        vertical-align: top;\n",
       "    }\n",
       "\n",
       "    .dataframe thead th {\n",
       "        text-align: right;\n",
       "    }\n",
       "</style>\n",
       "<table border=\"1\" class=\"dataframe\">\n",
       "  <thead>\n",
       "    <tr style=\"text-align: right;\">\n",
       "      <th></th>\n",
       "      <th>Id</th>\n",
       "      <th>SepalLengthCm</th>\n",
       "      <th>SepalWidthCm</th>\n",
       "      <th>PetalLengthCm</th>\n",
       "      <th>PetalWidthCm</th>\n",
       "      <th>Species</th>\n",
       "    </tr>\n",
       "  </thead>\n",
       "  <tbody>\n",
       "    <tr>\n",
       "      <th>0</th>\n",
       "      <td>1</td>\n",
       "      <td>5.1</td>\n",
       "      <td>3.5</td>\n",
       "      <td>1.4</td>\n",
       "      <td>0.2</td>\n",
       "      <td>Iris-setosa</td>\n",
       "    </tr>\n",
       "    <tr>\n",
       "      <th>1</th>\n",
       "      <td>2</td>\n",
       "      <td>4.9</td>\n",
       "      <td>3.0</td>\n",
       "      <td>1.4</td>\n",
       "      <td>0.2</td>\n",
       "      <td>Iris-setosa</td>\n",
       "    </tr>\n",
       "    <tr>\n",
       "      <th>2</th>\n",
       "      <td>3</td>\n",
       "      <td>4.7</td>\n",
       "      <td>3.2</td>\n",
       "      <td>1.3</td>\n",
       "      <td>0.2</td>\n",
       "      <td>Iris-setosa</td>\n",
       "    </tr>\n",
       "    <tr>\n",
       "      <th>3</th>\n",
       "      <td>4</td>\n",
       "      <td>4.6</td>\n",
       "      <td>3.1</td>\n",
       "      <td>1.5</td>\n",
       "      <td>0.2</td>\n",
       "      <td>Iris-setosa</td>\n",
       "    </tr>\n",
       "    <tr>\n",
       "      <th>4</th>\n",
       "      <td>5</td>\n",
       "      <td>5.0</td>\n",
       "      <td>3.6</td>\n",
       "      <td>1.4</td>\n",
       "      <td>0.2</td>\n",
       "      <td>Iris-setosa</td>\n",
       "    </tr>\n",
       "  </tbody>\n",
       "</table>\n",
       "</div>"
      ],
      "text/plain": [
       "   Id  SepalLengthCm  SepalWidthCm  PetalLengthCm  PetalWidthCm      Species\n",
       "0   1            5.1           3.5            1.4           0.2  Iris-setosa\n",
       "1   2            4.9           3.0            1.4           0.2  Iris-setosa\n",
       "2   3            4.7           3.2            1.3           0.2  Iris-setosa\n",
       "3   4            4.6           3.1            1.5           0.2  Iris-setosa\n",
       "4   5            5.0           3.6            1.4           0.2  Iris-setosa"
      ]
     },
     "execution_count": 1,
     "metadata": {},
     "output_type": "execute_result"
    }
   ],
   "source": [
    "import pandas as pd\n",
    "data = pd.read_csv('data/Iris.csv')\n",
    "data.head()"
   ]
  },
  {
   "cell_type": "code",
   "execution_count": 2,
   "metadata": {},
   "outputs": [],
   "source": [
    "df = data\n",
    "\n",
    "# PetalWidthCm\n",
    "df.loc[ (df['PetalWidthCm']>=0.0) & (df['PetalWidthCm']<1.0), 'PetalWidthCm' ] = 0\n",
    "df.loc[ (df['PetalWidthCm']>=1.0) & (df['PetalWidthCm']<2.0), 'PetalWidthCm' ] = 1\n",
    "df.loc[ (df['PetalWidthCm']>=2.0) & (df['PetalWidthCm']<3.0), 'PetalWidthCm' ] = 2\n",
    "\n",
    "# PetalLengthCm\n",
    "df.loc[ (df['PetalLengthCm']>=1.0) & (df['PetalLengthCm']<3.0), 'PetalLengthCm' ] = 2\n",
    "df.loc[ (df['PetalLengthCm']>=3.0) & (df['PetalLengthCm']<5.0), 'PetalLengthCm' ] = 4\n",
    "df.loc[ (df['PetalLengthCm']>=5.0) & (df['PetalLengthCm']<7.0), 'PetalLengthCm' ] = 6\n",
    "\n",
    "# Species\n",
    "df.loc[ (df['Species']== \"Iris-setosa\\.\"), 'Species' ] = 1\n",
    "df.loc[ (df['Species']== \"Iris-virginica\\.\"), 'Species' ] = 2\n",
    "df.loc[ (df['Species']== \"Iris-versicolor\\.\"), 'Species' ] = 3\n",
    "\n",
    "inputdata = df[['PetalWidthCm','PetalLengthCm']]\n",
    "targetdata = df['Species']"
   ]
  },
  {
   "cell_type": "code",
   "execution_count": 3,
   "metadata": {},
   "outputs": [],
   "source": [
    "x_valid = inputdata[0:40]\n",
    "y_valid = targetdata[0:40] # validation set - 0~40 까지만 시험용으로 정함\n",
    "\n",
    "x_train = inputdata[40:]\n",
    "y_train = targetdata[40:] # test set - 그 뒤 모두를 최종 성능 측정용으로 정함"
   ]
  },
  {
   "cell_type": "code",
   "execution_count": 4,
   "metadata": {},
   "outputs": [
    {
     "name": "stdout",
     "output_type": "stream",
     "text": [
      "training set accuracy :  0.9363636363636364\n",
      "validation set accuracy :  1.0\n",
      "training set accuracy :  0.9363636363636364\n",
      "validation set accuracy :  1.0\n"
     ]
    }
   ],
   "source": [
    "from sklearn.tree import DecisionTreeClassifier\n",
    "tree1 = DecisionTreeClassifier()\n",
    "tree2 = DecisionTreeClassifier()\n",
    "\n",
    "# tree1\n",
    "tree1.fit(x_train, y_train)\n",
    "print('training set accuracy : ',tree1.score(x_train,y_train)) # test set의 정확도 확인\n",
    "print('validation set accuracy : ',tree1.score(x_valid,y_valid)) # validation set의 정확도 확인\n",
    "\n",
    "# tree2\n",
    "tree2.fit(x_train, y_train)\n",
    "print('training set accuracy : ',tree2.score(x_train,y_train)) # test set의 정확도 확인\n",
    "print('validation set accuracy : ',tree2.score(x_valid,y_valid)) # validation set의 정확도 확인\n"
   ]
  },
  {
   "cell_type": "code",
   "execution_count": null,
   "metadata": {},
   "outputs": [],
   "source": []
  }
 ],
 "metadata": {
  "kernelspec": {
   "display_name": "Python 3",
   "language": "python",
   "name": "python3"
  },
  "language_info": {
   "codemirror_mode": {
    "name": "ipython",
    "version": 3
   },
   "file_extension": ".py",
   "mimetype": "text/x-python",
   "name": "python",
   "nbconvert_exporter": "python",
   "pygments_lexer": "ipython3",
   "version": "3.7.6"
  }
 },
 "nbformat": 4,
 "nbformat_minor": 4
}
