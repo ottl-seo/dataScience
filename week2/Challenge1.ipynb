{
 "cells": [
  {
   "cell_type": "markdown",
   "metadata": {},
   "source": [
    "# Challenge1\n",
    "## 전화번호부 만들기\n",
    "\n",
    "이름|연락처\n",
    "-|-\n",
    "박지성|010-1111-1111\n",
    "이청용|010-2222-2222\n",
    "손흥민|010-3333-3333"
   ]
  },
  {
   "cell_type": "code",
   "execution_count": 8,
   "metadata": {},
   "outputs": [
    {
     "name": "stdout",
     "output_type": "stream",
     "text": [
      "1단계: 전체 출력하기\n",
      "[{'name': '박지성', 'phone': '010-1111-1111'}, {'name': '이청용', 'phone': '010-2222-2222'}, {'name': '손흥민', 'phone': '010-3333-3333'}]\n",
      "--------------------------------------------------\n",
      "2단계: 이청용 정보만 출력하기\n",
      "{'name': '이청용', 'phone': '010-2222-2222'}\n"
     ]
    }
   ],
   "source": [
    "one = {'name':'박지성',\n",
    "      'phone':'010-1111-1111'}\n",
    "two = {'name':'이청용',\n",
    "      'phone':'010-2222-2222'}\n",
    "three = {'name':'손흥민',\n",
    "      'phone':'010-3333-3333'}\n",
    "\n",
    "phonebook = [one,two,three]\n",
    "\n",
    "# 1단계\n",
    "print('1단계: 전체 출력하기')\n",
    "print(phonebook)\n",
    "\n",
    "# 2단계\n",
    "print('-'*50)\n",
    "print('2단계: 이청용 정보만 출력하기')\n",
    "print(phonebook[1])"
   ]
  },
  {
   "cell_type": "code",
   "execution_count": 7,
   "metadata": {},
   "outputs": [
    {
     "name": "stdout",
     "output_type": "stream",
     "text": [
      "1단계: 전체 출력하기\n",
      "{'박지성': '010-1111-1111', '이청용': '010-2222-2222', '손흥민': '010-3333-3333'}\n",
      "--------------\n",
      "2단계: 이청용 정보만 출력하기\n",
      "010-2222-2222\n"
     ]
    }
   ],
   "source": [
    "phonebook = {\n",
    "    '박지성':'010-1111-1111',\n",
    "    '이청용':'010-2222-2222',\n",
    "    '손흥민':'010-3333-3333'\n",
    "}\n",
    "# 1단계\n",
    "print('1단계: 전체 출력하기')\n",
    "print(phonebook)\n",
    "\n",
    "# 2단계\n",
    "print('--------------')\n",
    "print('2단계: 이청용 정보만 출력하기')\n",
    "print(phonebook['이청용'])"
   ]
  },
  {
   "cell_type": "code",
   "execution_count": null,
   "metadata": {},
   "outputs": [],
   "source": []
  }
 ],
 "metadata": {
  "kernelspec": {
   "display_name": "Python 3",
   "language": "python",
   "name": "python3"
  },
  "language_info": {
   "codemirror_mode": {
    "name": "ipython",
    "version": 3
   },
   "file_extension": ".py",
   "mimetype": "text/x-python",
   "name": "python",
   "nbconvert_exporter": "python",
   "pygments_lexer": "ipython3",
   "version": "3.7.6"
  }
 },
 "nbformat": 4,
 "nbformat_minor": 4
}
