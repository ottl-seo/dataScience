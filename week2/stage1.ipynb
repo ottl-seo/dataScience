{
 "cells": [
  {
   "cell_type": "code",
   "execution_count": 1,
   "metadata": {},
   "outputs": [
    {
     "name": "stdout",
     "output_type": "stream",
     "text": [
      "Hello World :)\n"
     ]
    }
   ],
   "source": [
    "print(\"Hello World :)\")"
   ]
  },
  {
   "cell_type": "markdown",
   "metadata": {},
   "source": [
    "코드를 입력"
   ]
  },
  {
   "cell_type": "code",
   "execution_count": null,
   "metadata": {},
   "outputs": [],
   "source": []
  },
  {
   "cell_type": "markdown",
   "metadata": {},
   "source": [
    "# 큰 제목\n",
    "## 작은 제목\n",
    "일반 텍스트\n",
    "*기울여 주세요*\n",
    "\n",
    "**진하게**\n",
    "\n",
    "안녕하세요? 저는 **김윤서**입니다.\n",
    "\n",
    "`파이썬` `데이터` ㅎㅎ `사이언스`"
   ]
  },
  {
   "cell_type": "markdown",
   "metadata": {},
   "source": [
    "# 순서 없는 리스트\n",
    "- 딸기\n",
    "  - 빨간 딸기\n",
    "    - 많이 빨간 딸기\n",
    "    - 덜 빨간 딸기\n",
    "  - 초록 딸기\n",
    "- 배\n",
    "- 참외\n",
    "- 포도\n",
    "\n",
    "# 순서 있는 리스트\n",
    "1. 이화여자대학교\n",
    "  1. 김윤서\n",
    "  2. 김채연\n",
    "  3. 박지연\n",
    "2. 한양대학교\n",
    "  1. 김태훈\n",
    "  2. 송유진\n",
    "3. 경희대학교"
   ]
  },
  {
   "cell_type": "markdown",
   "metadata": {},
   "source": [
    "# 이미지와 링크 삽입하기\n",
    "---\n",
    "## 이미지\n",
    "![이화여자대학교](https://www.veritas-a.com/news/photo/202002/312713_212841_3933.jpg)\n",
    "\n",
    "## 링크\n",
    "[Google-\"이화여자대학교\" 이미지 검색 결과](https://www.google.com/search?q=%EC%9D%B4%ED%99%94%EC%97%AC%EB%8C%80&source=lnms&tbm=isch&sa=X&ved=2ahUKEwi94PDEmvXpAhWSCqYKHVzaC8sQ_AUoAXoECBwQAw#imgrc=rTrpUWsaSjRkRM)"
   ]
  },
  {
   "cell_type": "markdown",
   "metadata": {},
   "source": [
    "## 코드 넣기\n",
    "```python\n",
    "print(\"Hello\")\n",
    "```\n",
    "실행은 되지 않습니다!\n",
    "\n",
    "## 인용구\n",
    "안녕하세요\n",
    "> 남의 책을 많이 읽어라.\n",
    "> 남이 고생하여 얻은 지식을 아주 쉽게 내 것으로 만들 수 있고,\n",
    "> 그것으로 자기 발전을 이룰 수 있다.  \n",
    "> -소크라테스"
   ]
  },
  {
   "cell_type": "markdown",
   "metadata": {},
   "source": [
    "# 표 만드ㅏㄹ기\n",
    "이름|전화번호|이메일\n",
    "-|-|-\n",
    "A|010|abc.com\n",
    "B|010|bc.com\n",
    "C|010|c.com\n"
   ]
  },
  {
   "cell_type": "code",
   "execution_count": 3,
   "metadata": {},
   "outputs": [],
   "source": [
    "import pandas as pd\n",
    "import numpy as np"
   ]
  },
  {
   "cell_type": "code",
   "execution_count": null,
   "metadata": {},
   "outputs": [],
   "source": []
  }
 ],
 "metadata": {
  "kernelspec": {
   "display_name": "Python 3",
   "language": "python",
   "name": "python3"
  },
  "language_info": {
   "codemirror_mode": {
    "name": "ipython",
    "version": 3
   },
   "file_extension": ".py",
   "mimetype": "text/x-python",
   "name": "python",
   "nbconvert_exporter": "python",
   "pygments_lexer": "ipython3",
   "version": "3.7.6"
  }
 },
 "nbformat": 4,
 "nbformat_minor": 4
}
