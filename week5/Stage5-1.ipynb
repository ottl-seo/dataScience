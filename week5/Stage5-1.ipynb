{
 "cells": [
  {
   "cell_type": "code",
   "execution_count": 6,
   "metadata": {},
   "outputs": [],
   "source": [
    "data = [(1,2), (2,2.5),(3,2),(3,3),(4,3),(5,5),(6,2),(7,4),(8,5)]\n",
    "# list와 유사한 tuple 사용 - 별로 중요한건 아님, 리스트로 바꾸어도 상관 X"
   ]
  },
  {
   "cell_type": "code",
   "execution_count": 2,
   "metadata": {},
   "outputs": [],
   "source": [
    "a = 0.5\n",
    "b = 0.5"
   ]
  },
  {
   "cell_type": "markdown",
   "metadata": {},
   "source": [
    "## 실습1\n",
    "### a가 0.5, b가 0.5 일 때 오차제곱의 총합"
   ]
  },
  {
   "cell_type": "code",
   "execution_count": 10,
   "metadata": {},
   "outputs": [],
   "source": [
    "sums =0\n",
    "for (x,y) in data:\n",
    "    predict = a * x +b\n",
    "    # 특정 x값을 넣었을때 y값 ( y= ax+b 형태 ) //predict =그래프예상값 / y=실제값\n",
    "    \n",
    "    sums += (y-predict)**2 \n",
    "    #(오차의 제곱) -> sums에 더해준다"
   ]
  },
  {
   "cell_type": "code",
   "execution_count": 11,
   "metadata": {},
   "outputs": [
    {
     "data": {
      "text/plain": [
       "9.75"
      ]
     },
     "execution_count": 11,
     "metadata": {},
     "output_type": "execute_result"
    }
   ],
   "source": [
    "sums"
   ]
  },
  {
   "cell_type": "markdown",
   "metadata": {},
   "source": [
    "**//선형회귀식을 수학적으로 계산하기 끝**"
   ]
  },
  {
   "cell_type": "markdown",
   "metadata": {},
   "source": [
    "## 미션1\n",
    "### a,b가 (0.5, 1), (0.4, 1), (0.4, 1.4) 일 때 오차제곱의 합"
   ]
  },
  {
   "cell_type": "code",
   "execution_count": 14,
   "metadata": {},
   "outputs": [
    {
     "name": "stdout",
     "output_type": "stream",
     "text": [
      "6.650000000000001\n"
     ]
    }
   ],
   "source": [
    "a = 0.4\n",
    "b = 1.4\n",
    "sums =0\n",
    "for (x,y) in data:\n",
    "    predict = a * x +b\n",
    "    # 특정 x값을 넣었을때 y값 ( y= ax+b 형태 ) //predict =그래프예상값 / y=실제값\n",
    "    \n",
    "    sums += (y-predict)**2 \n",
    "    #(오차의 제곱) -> sums에 더해준다\n",
    "print(sums)"
   ]
  },
  {
   "cell_type": "markdown",
   "metadata": {},
   "source": [
    "**답**  \n",
    "(0.5, 1) => 7.5  \n",
    "(0.4, 1) => 8.33  \n",
    "(0.4, 1.4) => 6.65  "
   ]
  },
  {
   "cell_type": "markdown",
   "metadata": {},
   "source": [
    "## 자율1\n",
    "### 반복문을 이용해 25만가지 직선을 테스트하기"
   ]
  },
  {
   "cell_type": "code",
   "execution_count": 16,
   "metadata": {},
   "outputs": [
    {
     "name": "stdout",
     "output_type": "stream",
     "text": [
      "0.0 2.0 0.0\n"
     ]
    }
   ],
   "source": [
    "import numpy as np\n",
    "\n",
    "# 수많은 경우 중 최소의 오차값을 저장하기 위한 변수\n",
    "min_a = 0\n",
    "min_b = 0\n",
    "min_sums = 99999999\n",
    "\n",
    "for a in np.arange(0, 5, 0.01): #0, 0.01, 0.02, ... 0.49 까지 500가지의 경우\n",
    "    for b in np.arange(0, 5, 0.01):\n",
    "    # (a,b) = (0,0),(0, 0.01), ..... (0.01, 0), (0.01, 0.01), .....(0.49, 0.49)의 모든 경우\n",
    "        \n",
    "        # 현재 a,b의 오차제곱의 합 구하기\n",
    "        sums = 0\n",
    "        for (x,y) in data:\n",
    "            predict = a*x + b\n",
    "            sums += (y-predict)**2\n",
    "            \n",
    "            if(sums < min_sums): # 최소값보다 더 작으면\n",
    "                min_sums = sums\n",
    "                min_a = a\n",
    "                min_b = b\n",
    "                \n",
    "print(min_a, min_b, min_sums)"
   ]
  },
  {
   "cell_type": "markdown",
   "metadata": {},
   "source": [
    "**//25만개의 직선을 단 2초만에 테스트 완료  \n",
    "앞서 구한 것보다 (0, 2)가 더 작은 오차를 가졌군요!**"
   ]
  },
  {
   "cell_type": "code",
   "execution_count": null,
   "metadata": {},
   "outputs": [],
   "source": []
  },
  {
   "cell_type": "code",
   "execution_count": null,
   "metadata": {},
   "outputs": [],
   "source": []
  }
 ],
 "metadata": {
  "kernelspec": {
   "display_name": "Python 3",
   "language": "python",
   "name": "python3"
  },
  "language_info": {
   "codemirror_mode": {
    "name": "ipython",
    "version": 3
   },
   "file_extension": ".py",
   "mimetype": "text/x-python",
   "name": "python",
   "nbconvert_exporter": "python",
   "pygments_lexer": "ipython3",
   "version": "3.7.6"
  }
 },
 "nbformat": 4,
 "nbformat_minor": 4
}
