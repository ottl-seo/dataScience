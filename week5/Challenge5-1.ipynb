{
 "cells": [
  {
   "cell_type": "markdown",
   "metadata": {},
   "source": [
    "# Challenge 1\n",
    "## 이차함수 형태의 선형회귀식"
   ]
  },
  {
   "cell_type": "code",
   "execution_count": 1,
   "metadata": {},
   "outputs": [],
   "source": [
    "data = [(1,2), (2,2.5),(3,2),(3,3),(4,3),(5,5),(6,2),(7,4),(8,5)]"
   ]
  },
  {
   "cell_type": "code",
   "execution_count": 23,
   "metadata": {},
   "outputs": [
    {
     "name": "stdout",
     "output_type": "stream",
     "text": [
      "57.990000000000016\n"
     ]
    }
   ],
   "source": [
    "a = 0.2\n",
    "b = 0.5\n",
    "c = 0.1\n",
    "\n",
    "# y= ax^2 + bx + c\n",
    "\n",
    "sums = 0\n",
    "for (x,y) in data:\n",
    "    sums += (y- a*x**2 + b*x + c)**2\n",
    "    \n",
    "print(sums)"
   ]
  },
  {
   "cell_type": "code",
   "execution_count": null,
   "metadata": {},
   "outputs": [],
   "source": []
  }
 ],
 "metadata": {
  "kernelspec": {
   "display_name": "Python 3",
   "language": "python",
   "name": "python3"
  },
  "language_info": {
   "codemirror_mode": {
    "name": "ipython",
    "version": 3
   },
   "file_extension": ".py",
   "mimetype": "text/x-python",
   "name": "python",
   "nbconvert_exporter": "python",
   "pygments_lexer": "ipython3",
   "version": "3.7.6"
  }
 },
 "nbformat": 4,
 "nbformat_minor": 4
}
